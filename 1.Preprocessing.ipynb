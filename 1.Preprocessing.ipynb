{
 "cells": [
  {
   "cell_type": "code",
   "execution_count": null,
   "metadata": {
    "id": "XZUWwtFXA1Sx"
   },
   "outputs": [],
   "source": [
    "pip install\n",
    "%pip install\n",
    "!pip"
   ]
  },
  {
   "cell_type": "code",
   "execution_count": 75,
   "metadata": {
    "colab": {
     "base_uri": "https://localhost:8080/"
    },
    "executionInfo": {
     "elapsed": 3961,
     "status": "ok",
     "timestamp": 1673980566329,
     "user": {
      "displayName": "Akshay Bhure",
      "userId": "00538099124574916420"
     },
     "user_tz": -330
    },
    "id": "BEeE66fyA4Go",
    "outputId": "97890ce4-f747-47e7-8fc7-a7d25aee3c57"
   },
   "outputs": [
    {
     "name": "stdout",
     "output_type": "stream",
     "text": [
      "Looking in indexes: https://pypi.org/simple, https://us-python.pkg.dev/colab-wheels/public/simple/\n",
      "Requirement already satisfied: nltk in /usr/local/lib/python3.8/dist-packages (3.7)\n",
      "Requirement already satisfied: regex>=2021.8.3 in /usr/local/lib/python3.8/dist-packages (from nltk) (2022.6.2)\n",
      "Requirement already satisfied: tqdm in /usr/local/lib/python3.8/dist-packages (from nltk) (4.64.1)\n",
      "Requirement already satisfied: joblib in /usr/local/lib/python3.8/dist-packages (from nltk) (1.2.0)\n",
      "Requirement already satisfied: click in /usr/local/lib/python3.8/dist-packages (from nltk) (7.1.2)\n"
     ]
    }
   ],
   "source": [
    "%pip install nltk"
   ]
  },
  {
   "cell_type": "code",
   "execution_count": 11,
   "metadata": {
    "colab": {
     "base_uri": "https://localhost:8080/"
    },
    "executionInfo": {
     "elapsed": 4561,
     "status": "ok",
     "timestamp": 1673977168434,
     "user": {
      "displayName": "Akshay Bhure",
      "userId": "00538099124574916420"
     },
     "user_tz": -330
    },
    "id": "_GXc0dAT0Arq",
    "outputId": "f0e2688d-8ff6-41bf-e11e-893219d2026b"
   },
   "outputs": [
    {
     "name": "stdout",
     "output_type": "stream",
     "text": [
      "Looking in indexes: https://pypi.org/simple, https://us-python.pkg.dev/colab-wheels/public/simple/\n",
      "Collecting unidecode\n",
      "  Downloading Unidecode-1.3.6-py3-none-any.whl (235 kB)\n",
      "\u001b[2K     \u001b[90m━━━━━━━━━━━━━━━━━━━━━━━━━━━━━━━━━━━━━━\u001b[0m \u001b[32m235.9/235.9 KB\u001b[0m \u001b[31m18.3 MB/s\u001b[0m eta \u001b[36m0:00:00\u001b[0m\n",
      "\u001b[?25hInstalling collected packages: unidecode\n",
      "Successfully installed unidecode-1.3.6\n"
     ]
    }
   ],
   "source": [
    "pip install unidecode"
   ]
  },
  {
   "cell_type": "code",
   "execution_count": 6,
   "metadata": {
    "colab": {
     "base_uri": "https://localhost:8080/"
    },
    "executionInfo": {
     "elapsed": 5164,
     "status": "ok",
     "timestamp": 1673977048013,
     "user": {
      "displayName": "Akshay Bhure",
      "userId": "00538099124574916420"
     },
     "user_tz": -330
    },
    "id": "bGiy5k7OzlSF",
    "outputId": "70f6cd8e-850a-4990-d4b6-697bba0ac98f"
   },
   "outputs": [
    {
     "name": "stdout",
     "output_type": "stream",
     "text": [
      "Looking in indexes: https://pypi.org/simple, https://us-python.pkg.dev/colab-wheels/public/simple/\n",
      "Collecting contractions\n",
      "  Downloading contractions-0.1.73-py2.py3-none-any.whl (8.7 kB)\n",
      "Collecting textsearch>=0.0.21\n",
      "  Downloading textsearch-0.0.24-py2.py3-none-any.whl (7.6 kB)\n",
      "Collecting anyascii\n",
      "  Downloading anyascii-0.3.1-py3-none-any.whl (287 kB)\n",
      "\u001b[2K     \u001b[90m━━━━━━━━━━━━━━━━━━━━━━━━━━━━━━━━━━━━━━\u001b[0m \u001b[32m287.5/287.5 KB\u001b[0m \u001b[31m18.7 MB/s\u001b[0m eta \u001b[36m0:00:00\u001b[0m\n",
      "\u001b[?25hCollecting pyahocorasick\n",
      "  Downloading pyahocorasick-2.0.0-cp38-cp38-manylinux_2_5_x86_64.manylinux1_x86_64.whl (104 kB)\n",
      "\u001b[2K     \u001b[90m━━━━━━━━━━━━━━━━━━━━━━━━━━━━━━━━━━━━━━\u001b[0m \u001b[32m104.5/104.5 KB\u001b[0m \u001b[31m12.0 MB/s\u001b[0m eta \u001b[36m0:00:00\u001b[0m\n",
      "\u001b[?25hInstalling collected packages: pyahocorasick, anyascii, textsearch, contractions\n",
      "Successfully installed anyascii-0.3.1 contractions-0.1.73 pyahocorasick-2.0.0 textsearch-0.0.24\n"
     ]
    }
   ],
   "source": [
    "pip install contractions"
   ]
  },
  {
   "cell_type": "code",
   "execution_count": 16,
   "metadata": {
    "executionInfo": {
     "elapsed": 544,
     "status": "ok",
     "timestamp": 1673977494108,
     "user": {
      "displayName": "Akshay Bhure",
      "userId": "00538099124574916420"
     },
     "user_tz": -330
    },
    "id": "MnuIiTaNx74S"
   },
   "outputs": [],
   "source": [
    "import nltk\n",
    "from nltk.tokenize import word_tokenize,sent_tokenize,WhitespaceTokenizer\n",
    "from nltk.stem import WordNetLemmatizer,LancasterStemmer\n",
    "from nltk.corpus import stopwords\n",
    "from string import punctuation\n",
    "import contractions\n",
    "from unidecode import unidecode"
   ]
  },
  {
   "cell_type": "code",
   "execution_count": 13,
   "metadata": {
    "executionInfo": {
     "elapsed": 635,
     "status": "ok",
     "timestamp": 1673977198194,
     "user": {
      "displayName": "Akshay Bhure",
      "userId": "00538099124574916420"
     },
     "user_tz": -330
    },
    "id": "u_55D6M8zW8J"
   },
   "outputs": [],
   "source": [
    "text = \"\"\"The Moon is a barren, rocky world without air and water.\n",
    "It has dark lava plain on its surface. The Moon is filled wit craters. \n",
    "It has no light of its own. It gets its light from the Sun. The Moo keeps\n",
    "changing its shape as it moves round the Earth. It spins on its axis in 27.3 days\n",
    "stars were named after the Edwin Aldrin were the first ones to set their foot on the Moon\n",
    "on 21 July 1969 They reached the Moon in their space craft named Apollo II.\"\"\""
   ]
  },
  {
   "cell_type": "code",
   "execution_count": 5,
   "metadata": {
    "executionInfo": {
     "elapsed": 512,
     "status": "ok",
     "timestamp": 1673977019318,
     "user": {
      "displayName": "Akshay Bhure",
      "userId": "00538099124574916420"
     },
     "user_tz": -330
    },
    "id": "HroMK2IdxdnV"
   },
   "outputs": [],
   "source": [
    "import nltk"
   ]
  },
  {
   "cell_type": "code",
   "execution_count": 2,
   "metadata": {
    "colab": {
     "base_uri": "https://localhost:8080/"
    },
    "executionInfo": {
     "elapsed": 590,
     "status": "ok",
     "timestamp": 1673976595319,
     "user": {
      "displayName": "Akshay Bhure",
      "userId": "00538099124574916420"
     },
     "user_tz": -330
    },
    "id": "tiw-Y05LxqzP",
    "outputId": "5edc69bc-6a66-4cb1-b4d0-8d430a86015d"
   },
   "outputs": [
    {
     "name": "stderr",
     "output_type": "stream",
     "text": [
      "[nltk_data] Downloading package punkt to /root/nltk_data...\n",
      "[nltk_data]   Unzipping tokenizers/punkt.zip.\n"
     ]
    },
    {
     "data": {
      "text/plain": [
       "True"
      ]
     },
     "execution_count": 2,
     "metadata": {},
     "output_type": "execute_result"
    }
   ],
   "source": [
    "nltk.download('punkt')"
   ]
  },
  {
   "cell_type": "code",
   "execution_count": 14,
   "metadata": {
    "colab": {
     "base_uri": "https://localhost:8080/"
    },
    "executionInfo": {
     "elapsed": 649,
     "status": "ok",
     "timestamp": 1673977339651,
     "user": {
      "displayName": "Akshay Bhure",
      "userId": "00538099124574916420"
     },
     "user_tz": -330
    },
    "id": "S-78cJHA0O4Q",
    "outputId": "1747d383-3296-46ff-c8ba-969ee040e5be"
   },
   "outputs": [
    {
     "data": {
      "text/plain": [
       "['The Moon is a barren, rocky world without air and water.',\n",
       " 'It has dark lava plain on its surface.',\n",
       " 'The Moon is filled wit craters.',\n",
       " 'It has no light of its own.',\n",
       " 'It gets its light from the Sun.',\n",
       " 'The Moo keeps\\nchanging its shape as it moves round the Earth.',\n",
       " 'It spins on its axis in 27.3 days\\nstars were named after the Edwin Aldrin were the first ones to set their foot on the Moon\\non 21 July 1969 They reached the Moon in their space craft named Apollo II.']"
      ]
     },
     "execution_count": 14,
     "metadata": {},
     "output_type": "execute_result"
    }
   ],
   "source": [
    "# Tokenization\n",
    "#sentence Tokenization\n",
    "\n",
    "sent=sent_tokenize(text)\n",
    "sent"
   ]
  },
  {
   "cell_type": "code",
   "execution_count": 15,
   "metadata": {
    "colab": {
     "base_uri": "https://localhost:8080/"
    },
    "executionInfo": {
     "elapsed": 633,
     "status": "ok",
     "timestamp": 1673977411595,
     "user": {
      "displayName": "Akshay Bhure",
      "userId": "00538099124574916420"
     },
     "user_tz": -330
    },
    "id": "LgUZz0Q_0xji",
    "outputId": "816ced02-78da-4fec-874b-0fb31feadc42"
   },
   "outputs": [
    {
     "data": {
      "text/plain": [
       "['The',\n",
       " 'Moon',\n",
       " 'is',\n",
       " 'a',\n",
       " 'barren',\n",
       " ',',\n",
       " 'rocky',\n",
       " 'world',\n",
       " 'without',\n",
       " 'air',\n",
       " 'and',\n",
       " 'water',\n",
       " '.',\n",
       " 'It',\n",
       " 'has',\n",
       " 'dark',\n",
       " 'lava',\n",
       " 'plain',\n",
       " 'on',\n",
       " 'its',\n",
       " 'surface',\n",
       " '.',\n",
       " 'The',\n",
       " 'Moon',\n",
       " 'is',\n",
       " 'filled',\n",
       " 'wit',\n",
       " 'craters',\n",
       " '.',\n",
       " 'It',\n",
       " 'has',\n",
       " 'no',\n",
       " 'light',\n",
       " 'of',\n",
       " 'its',\n",
       " 'own',\n",
       " '.',\n",
       " 'It',\n",
       " 'gets',\n",
       " 'its',\n",
       " 'light',\n",
       " 'from',\n",
       " 'the',\n",
       " 'Sun',\n",
       " '.',\n",
       " 'The',\n",
       " 'Moo',\n",
       " 'keeps',\n",
       " 'changing',\n",
       " 'its',\n",
       " 'shape',\n",
       " 'as',\n",
       " 'it',\n",
       " 'moves',\n",
       " 'round',\n",
       " 'the',\n",
       " 'Earth',\n",
       " '.',\n",
       " 'It',\n",
       " 'spins',\n",
       " 'on',\n",
       " 'its',\n",
       " 'axis',\n",
       " 'in',\n",
       " '27.3',\n",
       " 'days',\n",
       " 'stars',\n",
       " 'were',\n",
       " 'named',\n",
       " 'after',\n",
       " 'the',\n",
       " 'Edwin',\n",
       " 'Aldrin',\n",
       " 'were',\n",
       " 'the',\n",
       " 'first',\n",
       " 'ones',\n",
       " 'to',\n",
       " 'set',\n",
       " 'their',\n",
       " 'foot',\n",
       " 'on',\n",
       " 'the',\n",
       " 'Moon',\n",
       " 'on',\n",
       " '21',\n",
       " 'July',\n",
       " '1969',\n",
       " 'They',\n",
       " 'reached',\n",
       " 'the',\n",
       " 'Moon',\n",
       " 'in',\n",
       " 'their',\n",
       " 'space',\n",
       " 'craft',\n",
       " 'named',\n",
       " 'Apollo',\n",
       " 'II',\n",
       " '.']"
      ]
     },
     "execution_count": 15,
     "metadata": {},
     "output_type": "execute_result"
    }
   ],
   "source": [
    "#word Tokenization\n",
    "\n",
    "tokens=word_tokenize(text)\n",
    "tokens"
   ]
  },
  {
   "cell_type": "code",
   "execution_count": 18,
   "metadata": {
    "colab": {
     "base_uri": "https://localhost:8080/"
    },
    "executionInfo": {
     "elapsed": 4,
     "status": "ok",
     "timestamp": 1673977540208,
     "user": {
      "displayName": "Akshay Bhure",
      "userId": "00538099124574916420"
     },
     "user_tz": -330
    },
    "id": "YjpNovWL1C_9",
    "outputId": "a98fa89d-5654-4bc9-b253-2fd99ec9bdd9"
   },
   "outputs": [
    {
     "data": {
      "text/plain": [
       "['The',\n",
       " 'Moon',\n",
       " 'is',\n",
       " 'a',\n",
       " 'barren,',\n",
       " 'rocky',\n",
       " 'world',\n",
       " 'without',\n",
       " 'air',\n",
       " 'and',\n",
       " 'water.',\n",
       " 'It',\n",
       " 'has',\n",
       " 'dark',\n",
       " 'lava',\n",
       " 'plain',\n",
       " 'on',\n",
       " 'its',\n",
       " 'surface.',\n",
       " 'The',\n",
       " 'Moon',\n",
       " 'is',\n",
       " 'filled',\n",
       " 'wit',\n",
       " 'craters.',\n",
       " 'It',\n",
       " 'has',\n",
       " 'no',\n",
       " 'light',\n",
       " 'of',\n",
       " 'its',\n",
       " 'own.',\n",
       " 'It',\n",
       " 'gets',\n",
       " 'its',\n",
       " 'light',\n",
       " 'from',\n",
       " 'the',\n",
       " 'Sun.',\n",
       " 'The',\n",
       " 'Moo',\n",
       " 'keeps',\n",
       " 'changing',\n",
       " 'its',\n",
       " 'shape',\n",
       " 'as',\n",
       " 'it',\n",
       " 'moves',\n",
       " 'round',\n",
       " 'the',\n",
       " 'Earth.',\n",
       " 'It',\n",
       " 'spins',\n",
       " 'on',\n",
       " 'its',\n",
       " 'axis',\n",
       " 'in',\n",
       " '27.3',\n",
       " 'days',\n",
       " 'stars',\n",
       " 'were',\n",
       " 'named',\n",
       " 'after',\n",
       " 'the',\n",
       " 'Edwin',\n",
       " 'Aldrin',\n",
       " 'were',\n",
       " 'the',\n",
       " 'first',\n",
       " 'ones',\n",
       " 'to',\n",
       " 'set',\n",
       " 'their',\n",
       " 'foot',\n",
       " 'on',\n",
       " 'the',\n",
       " 'Moon',\n",
       " 'on',\n",
       " '21',\n",
       " 'July',\n",
       " '1969',\n",
       " 'They',\n",
       " 'reached',\n",
       " 'the',\n",
       " 'Moon',\n",
       " 'in',\n",
       " 'their',\n",
       " 'space',\n",
       " 'craft',\n",
       " 'named',\n",
       " 'Apollo',\n",
       " 'II.']"
      ]
     },
     "execution_count": 18,
     "metadata": {},
     "output_type": "execute_result"
    }
   ],
   "source": [
    "#whiteSpace tokenization\n",
    "tokens1=WhitespaceTokenizer().tokenize(text)\n",
    "tokens1"
   ]
  },
  {
   "cell_type": "code",
   "execution_count": 20,
   "metadata": {
    "colab": {
     "base_uri": "https://localhost:8080/"
    },
    "executionInfo": {
     "elapsed": 619,
     "status": "ok",
     "timestamp": 1673977697086,
     "user": {
      "displayName": "Akshay Bhure",
      "userId": "00538099124574916420"
     },
     "user_tz": -330
    },
    "id": "d982pjzg1bfX",
    "outputId": "9538c5d8-4a21-4f35-a957-d8d921c3855e"
   },
   "outputs": [
    {
     "data": {
      "text/plain": [
       "['the',\n",
       " 'moon',\n",
       " 'is',\n",
       " 'a',\n",
       " 'barren',\n",
       " ',',\n",
       " 'rocky',\n",
       " 'world',\n",
       " 'without',\n",
       " 'air',\n",
       " 'and',\n",
       " 'water',\n",
       " '.',\n",
       " 'it',\n",
       " 'has',\n",
       " 'dark',\n",
       " 'lava',\n",
       " 'plain',\n",
       " 'on',\n",
       " 'its',\n",
       " 'surface',\n",
       " '.',\n",
       " 'the',\n",
       " 'moon',\n",
       " 'is',\n",
       " 'filled',\n",
       " 'wit',\n",
       " 'craters',\n",
       " '.',\n",
       " 'it',\n",
       " 'has',\n",
       " 'no',\n",
       " 'light',\n",
       " 'of',\n",
       " 'its',\n",
       " 'own',\n",
       " '.',\n",
       " 'it',\n",
       " 'gets',\n",
       " 'its',\n",
       " 'light',\n",
       " 'from',\n",
       " 'the',\n",
       " 'sun',\n",
       " '.',\n",
       " 'the',\n",
       " 'moo',\n",
       " 'keeps',\n",
       " 'changing',\n",
       " 'its',\n",
       " 'shape',\n",
       " 'as',\n",
       " 'it',\n",
       " 'moves',\n",
       " 'round',\n",
       " 'the',\n",
       " 'earth',\n",
       " '.',\n",
       " 'it',\n",
       " 'spins',\n",
       " 'on',\n",
       " 'its',\n",
       " 'axis',\n",
       " 'in',\n",
       " '27.3',\n",
       " 'days',\n",
       " 'stars',\n",
       " 'were',\n",
       " 'named',\n",
       " 'after',\n",
       " 'the',\n",
       " 'edwin',\n",
       " 'aldrin',\n",
       " 'were',\n",
       " 'the',\n",
       " 'first',\n",
       " 'ones',\n",
       " 'to',\n",
       " 'set',\n",
       " 'their',\n",
       " 'foot',\n",
       " 'on',\n",
       " 'the',\n",
       " 'moon',\n",
       " 'on',\n",
       " '21',\n",
       " 'july',\n",
       " '1969',\n",
       " 'they',\n",
       " 'reached',\n",
       " 'the',\n",
       " 'moon',\n",
       " 'in',\n",
       " 'their',\n",
       " 'space',\n",
       " 'craft',\n",
       " 'named',\n",
       " 'apollo',\n",
       " 'ii',\n",
       " '.']"
      ]
     },
     "execution_count": 20,
     "metadata": {},
     "output_type": "execute_result"
    }
   ],
   "source": [
    "# Normalization\n",
    "lower_text=[word.lower() for word in tokens]\n",
    "lower_text"
   ]
  },
  {
   "cell_type": "code",
   "execution_count": 22,
   "metadata": {
    "colab": {
     "base_uri": "https://localhost:8080/",
     "height": 35
    },
    "executionInfo": {
     "elapsed": 515,
     "status": "ok",
     "timestamp": 1673977775595,
     "user": {
      "displayName": "Akshay Bhure",
      "userId": "00538099124574916420"
     },
     "user_tz": -330
    },
    "id": "B6OGyLkC2G-Z",
    "outputId": "38ac5bac-3879-4aa9-d727-ca7ad772cb19"
   },
   "outputs": [
    {
     "data": {
      "application/vnd.google.colaboratory.intrinsic+json": {
       "type": "string"
      },
      "text/plain": [
       "'!\"#$%&\\'()*+,-./:;<=>?@[\\\\]^_`{|}~'"
      ]
     },
     "execution_count": 22,
     "metadata": {},
     "output_type": "execute_result"
    }
   ],
   "source": [
    "punctuation"
   ]
  },
  {
   "cell_type": "code",
   "execution_count": 25,
   "metadata": {
    "colab": {
     "base_uri": "https://localhost:8080/"
    },
    "executionInfo": {
     "elapsed": 4,
     "status": "ok",
     "timestamp": 1673977934699,
     "user": {
      "displayName": "Akshay Bhure",
      "userId": "00538099124574916420"
     },
     "user_tz": -330
    },
    "id": "JUPB3K4u2Yzi",
    "outputId": "e1dfd17b-e633-4dce-8713-55e000224c16"
   },
   "outputs": [
    {
     "data": {
      "text/plain": [
       "['the',\n",
       " 'moon',\n",
       " 'is',\n",
       " 'a',\n",
       " 'barren',\n",
       " 'rocky',\n",
       " 'world',\n",
       " 'without',\n",
       " 'air',\n",
       " 'and',\n",
       " 'water',\n",
       " 'it',\n",
       " 'has',\n",
       " 'dark',\n",
       " 'lava',\n",
       " 'plain',\n",
       " 'on',\n",
       " 'its',\n",
       " 'surface',\n",
       " 'the',\n",
       " 'moon',\n",
       " 'is',\n",
       " 'filled',\n",
       " 'wit',\n",
       " 'craters',\n",
       " 'it',\n",
       " 'has',\n",
       " 'no',\n",
       " 'light',\n",
       " 'of',\n",
       " 'its',\n",
       " 'own',\n",
       " 'it',\n",
       " 'gets',\n",
       " 'its',\n",
       " 'light',\n",
       " 'from',\n",
       " 'the',\n",
       " 'sun',\n",
       " 'the',\n",
       " 'moo',\n",
       " 'keeps',\n",
       " 'changing',\n",
       " 'its',\n",
       " 'shape',\n",
       " 'as',\n",
       " 'it',\n",
       " 'moves',\n",
       " 'round',\n",
       " 'the',\n",
       " 'earth',\n",
       " 'it',\n",
       " 'spins',\n",
       " 'on',\n",
       " 'its',\n",
       " 'axis',\n",
       " 'in',\n",
       " '27.3',\n",
       " 'days',\n",
       " 'stars',\n",
       " 'were',\n",
       " 'named',\n",
       " 'after',\n",
       " 'the',\n",
       " 'edwin',\n",
       " 'aldrin',\n",
       " 'were',\n",
       " 'the',\n",
       " 'first',\n",
       " 'ones',\n",
       " 'to',\n",
       " 'set',\n",
       " 'their',\n",
       " 'foot',\n",
       " 'on',\n",
       " 'the',\n",
       " 'moon',\n",
       " 'on',\n",
       " '21',\n",
       " 'july',\n",
       " '1969',\n",
       " 'they',\n",
       " 'reached',\n",
       " 'the',\n",
       " 'moon',\n",
       " 'in',\n",
       " 'their',\n",
       " 'space',\n",
       " 'craft',\n",
       " 'named',\n",
       " 'apollo',\n",
       " 'ii']"
      ]
     },
     "execution_count": 25,
     "metadata": {},
     "output_type": "execute_result"
    }
   ],
   "source": [
    "#remove punctuations\n",
    "text_without_punct=[word for word in lower_text if word not in punctuation]\n",
    "text_without_punct"
   ]
  },
  {
   "cell_type": "code",
   "execution_count": 28,
   "metadata": {
    "colab": {
     "base_uri": "https://localhost:8080/"
    },
    "executionInfo": {
     "elapsed": 615,
     "status": "ok",
     "timestamp": 1673978135679,
     "user": {
      "displayName": "Akshay Bhure",
      "userId": "00538099124574916420"
     },
     "user_tz": -330
    },
    "id": "3pq0QMlY3ypH",
    "outputId": "9f7c77ac-9cf7-4cf3-c68c-f3c82283bba1"
   },
   "outputs": [
    {
     "name": "stderr",
     "output_type": "stream",
     "text": [
      "[nltk_data] Downloading package stopwords to /root/nltk_data...\n",
      "[nltk_data]   Unzipping corpora/stopwords.zip.\n"
     ]
    },
    {
     "data": {
      "text/plain": [
       "True"
      ]
     },
     "execution_count": 28,
     "metadata": {},
     "output_type": "execute_result"
    }
   ],
   "source": [
    "nltk.download('stopwords')"
   ]
  },
  {
   "cell_type": "code",
   "execution_count": 29,
   "metadata": {
    "colab": {
     "base_uri": "https://localhost:8080/"
    },
    "executionInfo": {
     "elapsed": 443,
     "status": "ok",
     "timestamp": 1673978168787,
     "user": {
      "displayName": "Akshay Bhure",
      "userId": "00538099124574916420"
     },
     "user_tz": -330
    },
    "id": "3eEPmjN123OU",
    "outputId": "08ade501-4bfa-4631-c665-26ad66b1fab6"
   },
   "outputs": [
    {
     "data": {
      "text/plain": [
       "179"
      ]
     },
     "execution_count": 29,
     "metadata": {},
     "output_type": "execute_result"
    }
   ],
   "source": [
    "#remove Stopwords\n",
    "stopword_list=stopwords.words('english')\n",
    "len(stopword_list)"
   ]
  },
  {
   "cell_type": "code",
   "execution_count": 31,
   "metadata": {
    "colab": {
     "base_uri": "https://localhost:8080/"
    },
    "executionInfo": {
     "elapsed": 444,
     "status": "ok",
     "timestamp": 1673978297851,
     "user": {
      "displayName": "Akshay Bhure",
      "userId": "00538099124574916420"
     },
     "user_tz": -330
    },
    "id": "rUBmNq2R3mhH",
    "outputId": "386eacd9-acc0-4c93-d6f5-f79395ba4edb"
   },
   "outputs": [
    {
     "data": {
      "text/plain": [
       "['moon',\n",
       " 'barren',\n",
       " 'rocky',\n",
       " 'world',\n",
       " 'without',\n",
       " 'air',\n",
       " 'water',\n",
       " 'dark',\n",
       " 'lava',\n",
       " 'plain',\n",
       " 'surface',\n",
       " 'moon',\n",
       " 'filled',\n",
       " 'wit',\n",
       " 'craters',\n",
       " 'light',\n",
       " 'gets',\n",
       " 'light',\n",
       " 'sun',\n",
       " 'moo',\n",
       " 'keeps',\n",
       " 'changing',\n",
       " 'shape',\n",
       " 'moves',\n",
       " 'round',\n",
       " 'earth',\n",
       " 'spins',\n",
       " 'axis',\n",
       " '27.3',\n",
       " 'days',\n",
       " 'stars',\n",
       " 'named',\n",
       " 'edwin',\n",
       " 'aldrin',\n",
       " 'first',\n",
       " 'ones',\n",
       " 'set',\n",
       " 'foot',\n",
       " 'moon',\n",
       " '21',\n",
       " 'july',\n",
       " '1969',\n",
       " 'reached',\n",
       " 'moon',\n",
       " 'space',\n",
       " 'craft',\n",
       " 'named',\n",
       " 'apollo',\n",
       " 'ii']"
      ]
     },
     "execution_count": 31,
     "metadata": {},
     "output_type": "execute_result"
    }
   ],
   "source": [
    "text_without_stop=[word for word in text_without_punct if word not in stopword_list]\n",
    "text_without_stop"
   ]
  },
  {
   "cell_type": "code",
   "execution_count": 32,
   "metadata": {
    "colab": {
     "base_uri": "https://localhost:8080/"
    },
    "executionInfo": {
     "elapsed": 446,
     "status": "ok",
     "timestamp": 1673978338575,
     "user": {
      "displayName": "Akshay Bhure",
      "userId": "00538099124574916420"
     },
     "user_tz": -330
    },
    "id": "TGOYUyP24Odm",
    "outputId": "60ec4c5a-15d3-4dd2-f67b-0696d82b0722"
   },
   "outputs": [
    {
     "data": {
      "text/plain": [
       "['the', 'moon', 'is', 'a', 'barren', 'rocky', 'world', 'without', 'air', 'and']"
      ]
     },
     "execution_count": 32,
     "metadata": {},
     "output_type": "execute_result"
    }
   ],
   "source": [
    "text_without_punct[0:10]"
   ]
  },
  {
   "cell_type": "code",
   "execution_count": 33,
   "metadata": {
    "colab": {
     "base_uri": "https://localhost:8080/"
    },
    "executionInfo": {
     "elapsed": 801,
     "status": "ok",
     "timestamp": 1673978349243,
     "user": {
      "displayName": "Akshay Bhure",
      "userId": "00538099124574916420"
     },
     "user_tz": -330
    },
    "id": "Ut0kLD5P4lhj",
    "outputId": "96fe4bff-9beb-48ca-a41c-651d262d809a"
   },
   "outputs": [
    {
     "data": {
      "text/plain": [
       "['moon',\n",
       " 'barren',\n",
       " 'rocky',\n",
       " 'world',\n",
       " 'without',\n",
       " 'air',\n",
       " 'water',\n",
       " 'dark',\n",
       " 'lava',\n",
       " 'plain']"
      ]
     },
     "execution_count": 33,
     "metadata": {},
     "output_type": "execute_result"
    }
   ],
   "source": [
    "text_without_stop[0:10]"
   ]
  },
  {
   "cell_type": "code",
   "execution_count": 34,
   "metadata": {
    "colab": {
     "base_uri": "https://localhost:8080/",
     "height": 35
    },
    "executionInfo": {
     "elapsed": 438,
     "status": "ok",
     "timestamp": 1673978415448,
     "user": {
      "displayName": "Akshay Bhure",
      "userId": "00538099124574916420"
     },
     "user_tz": -330
    },
    "id": "ICKkgdRW4oBg",
    "outputId": "ec269a44-f6d1-4944-a46f-a38c2c03526e"
   },
   "outputs": [
    {
     "data": {
      "application/vnd.google.colaboratory.intrinsic+json": {
       "type": "string"
      },
      "text/plain": [
       "'I did not like the movie'"
      ]
     },
     "execution_count": 34,
     "metadata": {},
     "output_type": "execute_result"
    }
   ],
   "source": [
    "#contraction mapping\n",
    "text1 = \"I didn't like the movie\"\n",
    "expanded_text=contractions.fix(text1)\n",
    "expanded_text"
   ]
  },
  {
   "cell_type": "code",
   "execution_count": 35,
   "metadata": {
    "colab": {
     "base_uri": "https://localhost:8080/",
     "height": 35
    },
    "executionInfo": {
     "elapsed": 644,
     "status": "ok",
     "timestamp": 1673978441010,
     "user": {
      "displayName": "Akshay Bhure",
      "userId": "00538099124574916420"
     },
     "user_tz": -330
    },
    "id": "4mXbN36W44TG",
    "outputId": "8d9af484-0522-4cf4-81e0-9de03dfbba0f"
   },
   "outputs": [
    {
     "data": {
      "application/vnd.google.colaboratory.intrinsic+json": {
       "type": "string"
      },
      "text/plain": [
       "'I does not like the movie'"
      ]
     },
     "execution_count": 35,
     "metadata": {},
     "output_type": "execute_result"
    }
   ],
   "source": [
    "# contraction mapping \n",
    "text1 = \"I doesn't like the movie\"\n",
    "expanded_text = contractions.fix(text1)\n",
    "expanded_text"
   ]
  },
  {
   "cell_type": "code",
   "execution_count": 36,
   "metadata": {
    "colab": {
     "base_uri": "https://localhost:8080/",
     "height": 35
    },
    "executionInfo": {
     "elapsed": 530,
     "status": "ok",
     "timestamp": 1673978466905,
     "user": {
      "displayName": "Akshay Bhure",
      "userId": "00538099124574916420"
     },
     "user_tz": -330
    },
    "id": "gIlcysAL4-a4",
    "outputId": "2affdbc3-4d5d-424f-ebbf-bef3046f95dd"
   },
   "outputs": [
    {
     "data": {
      "application/vnd.google.colaboratory.intrinsic+json": {
       "type": "string"
      },
      "text/plain": [
       "'I cannot like the movie'"
      ]
     },
     "execution_count": 36,
     "metadata": {},
     "output_type": "execute_result"
    }
   ],
   "source": [
    "# contraction mapping \n",
    "text1 = \"I can't like the movie\"\n",
    "expanded_text = contractions.fix(text1)\n",
    "expanded_text"
   ]
  },
  {
   "cell_type": "code",
   "execution_count": 55,
   "metadata": {
    "colab": {
     "base_uri": "https://localhost:8080/",
     "height": 130
    },
    "executionInfo": {
     "elapsed": 533,
     "status": "error",
     "timestamp": 1673979196595,
     "user": {
      "displayName": "Akshay Bhure",
      "userId": "00538099124574916420"
     },
     "user_tz": -330
    },
    "id": "5RlPUwpS5Ezx",
    "outputId": "97a54977-a954-4eb4-8ed0-83f61a6dd5de"
   },
   "outputs": [
    {
     "ename": "SyntaxError",
     "evalue": "ignored",
     "output_type": "error",
     "traceback": [
      "\u001b[0;36m  File \u001b[0;32m\"<ipython-input-55-baf417b997dd>\"\u001b[0;36m, line \u001b[0;32m1\u001b[0m\n\u001b[0;31m    expanded_text.replace('can\\'t\\','can not')\u001b[0m\n\u001b[0m                                     ^\u001b[0m\n\u001b[0;31mSyntaxError\u001b[0m\u001b[0;31m:\u001b[0m invalid syntax\n"
     ]
    }
   ],
   "source": [
    "expanded_text.replace('can\\'t\\','can not')"
   ]
  },
  {
   "cell_type": "code",
   "execution_count": 60,
   "metadata": {
    "colab": {
     "base_uri": "https://localhost:8080/"
    },
    "executionInfo": {
     "elapsed": 579,
     "status": "ok",
     "timestamp": 1673979784100,
     "user": {
      "displayName": "Akshay Bhure",
      "userId": "00538099124574916420"
     },
     "user_tz": -330
    },
    "id": "xA6F7L2U9-hU",
    "outputId": "211f5d00-d7c6-4bee-a858-f73104684586"
   },
   "outputs": [
    {
     "name": "stderr",
     "output_type": "stream",
     "text": [
      "[nltk_data] Downloading package wordnet to /root/nltk_data...\n",
      "[nltk_data]   Package wordnet is already up-to-date!\n",
      "[nltk_data] Downloading package omw-1.4 to /root/nltk_data...\n"
     ]
    },
    {
     "data": {
      "text/plain": [
       "True"
      ]
     },
     "execution_count": 60,
     "metadata": {},
     "output_type": "execute_result"
    }
   ],
   "source": [
    "nltk.download('wordnet')\n",
    "nltk.download('omw-1.4')"
   ]
  },
  {
   "cell_type": "code",
   "execution_count": 62,
   "metadata": {
    "colab": {
     "base_uri": "https://localhost:8080/"
    },
    "executionInfo": {
     "elapsed": 489,
     "status": "ok",
     "timestamp": 1673979805030,
     "user": {
      "displayName": "Akshay Bhure",
      "userId": "00538099124574916420"
     },
     "user_tz": -330
    },
    "id": "MR3ro8FH5UDP",
    "outputId": "52558b2b-d975-4dad-f3ca-d531bc260c3c"
   },
   "outputs": [
    {
     "name": "stdout",
     "output_type": "stream",
     "text": [
      "Original word >> moon\n",
      "stemmed_word >> moon\n",
      "lemmatized_word >> moon\n",
      "****************************************************************************************************\n",
      "Original word >> barren\n",
      "stemmed_word >> bar\n",
      "lemmatized_word >> barren\n",
      "****************************************************************************************************\n",
      "Original word >> rocky\n",
      "stemmed_word >> rocky\n",
      "lemmatized_word >> rocky\n",
      "****************************************************************************************************\n",
      "Original word >> world\n",
      "stemmed_word >> world\n",
      "lemmatized_word >> world\n",
      "****************************************************************************************************\n",
      "Original word >> without\n",
      "stemmed_word >> without\n",
      "lemmatized_word >> without\n",
      "****************************************************************************************************\n",
      "Original word >> air\n",
      "stemmed_word >> air\n",
      "lemmatized_word >> air\n",
      "****************************************************************************************************\n",
      "Original word >> water\n",
      "stemmed_word >> wat\n",
      "lemmatized_word >> water\n",
      "****************************************************************************************************\n",
      "Original word >> dark\n",
      "stemmed_word >> dark\n",
      "lemmatized_word >> dark\n",
      "****************************************************************************************************\n",
      "Original word >> lava\n",
      "stemmed_word >> lav\n",
      "lemmatized_word >> lava\n",
      "****************************************************************************************************\n",
      "Original word >> plain\n",
      "stemmed_word >> plain\n",
      "lemmatized_word >> plain\n",
      "****************************************************************************************************\n",
      "Original word >> surface\n",
      "stemmed_word >> surfac\n",
      "lemmatized_word >> surface\n",
      "****************************************************************************************************\n",
      "Original word >> moon\n",
      "stemmed_word >> moon\n",
      "lemmatized_word >> moon\n",
      "****************************************************************************************************\n",
      "Original word >> filled\n",
      "stemmed_word >> fil\n",
      "lemmatized_word >> filled\n",
      "****************************************************************************************************\n",
      "Original word >> wit\n",
      "stemmed_word >> wit\n",
      "lemmatized_word >> wit\n",
      "****************************************************************************************************\n",
      "Original word >> craters\n",
      "stemmed_word >> crat\n",
      "lemmatized_word >> crater\n",
      "****************************************************************************************************\n",
      "Original word >> light\n",
      "stemmed_word >> light\n",
      "lemmatized_word >> light\n",
      "****************************************************************************************************\n",
      "Original word >> gets\n",
      "stemmed_word >> get\n",
      "lemmatized_word >> get\n",
      "****************************************************************************************************\n",
      "Original word >> light\n",
      "stemmed_word >> light\n",
      "lemmatized_word >> light\n",
      "****************************************************************************************************\n",
      "Original word >> sun\n",
      "stemmed_word >> sun\n",
      "lemmatized_word >> sun\n",
      "****************************************************************************************************\n",
      "Original word >> moo\n",
      "stemmed_word >> moo\n",
      "lemmatized_word >> moo\n",
      "****************************************************************************************************\n",
      "Original word >> keeps\n",
      "stemmed_word >> keep\n",
      "lemmatized_word >> keep\n",
      "****************************************************************************************************\n",
      "Original word >> changing\n",
      "stemmed_word >> chang\n",
      "lemmatized_word >> changing\n",
      "****************************************************************************************************\n",
      "Original word >> shape\n",
      "stemmed_word >> shap\n",
      "lemmatized_word >> shape\n",
      "****************************************************************************************************\n",
      "Original word >> moves\n",
      "stemmed_word >> mov\n",
      "lemmatized_word >> move\n",
      "****************************************************************************************************\n",
      "Original word >> round\n",
      "stemmed_word >> round\n",
      "lemmatized_word >> round\n",
      "****************************************************************************************************\n",
      "Original word >> earth\n",
      "stemmed_word >> ear\n",
      "lemmatized_word >> earth\n",
      "****************************************************************************************************\n",
      "Original word >> spins\n",
      "stemmed_word >> spin\n",
      "lemmatized_word >> spin\n",
      "****************************************************************************************************\n",
      "Original word >> axis\n",
      "stemmed_word >> ax\n",
      "lemmatized_word >> axis\n",
      "****************************************************************************************************\n",
      "Original word >> 27.3\n",
      "stemmed_word >> 27.3\n",
      "lemmatized_word >> 27.3\n",
      "****************************************************************************************************\n",
      "Original word >> days\n",
      "stemmed_word >> day\n",
      "lemmatized_word >> day\n",
      "****************************************************************************************************\n",
      "Original word >> stars\n",
      "stemmed_word >> star\n",
      "lemmatized_word >> star\n",
      "****************************************************************************************************\n",
      "Original word >> named\n",
      "stemmed_word >> nam\n",
      "lemmatized_word >> named\n",
      "****************************************************************************************************\n",
      "Original word >> edwin\n",
      "stemmed_word >> edwin\n",
      "lemmatized_word >> edwin\n",
      "****************************************************************************************************\n",
      "Original word >> aldrin\n",
      "stemmed_word >> aldrin\n",
      "lemmatized_word >> aldrin\n",
      "****************************************************************************************************\n",
      "Original word >> first\n",
      "stemmed_word >> first\n",
      "lemmatized_word >> first\n",
      "****************************************************************************************************\n",
      "Original word >> ones\n",
      "stemmed_word >> on\n",
      "lemmatized_word >> one\n",
      "****************************************************************************************************\n",
      "Original word >> set\n",
      "stemmed_word >> set\n",
      "lemmatized_word >> set\n",
      "****************************************************************************************************\n",
      "Original word >> foot\n",
      "stemmed_word >> foot\n",
      "lemmatized_word >> foot\n",
      "****************************************************************************************************\n",
      "Original word >> moon\n",
      "stemmed_word >> moon\n",
      "lemmatized_word >> moon\n",
      "****************************************************************************************************\n",
      "Original word >> 21\n",
      "stemmed_word >> 21\n",
      "lemmatized_word >> 21\n",
      "****************************************************************************************************\n",
      "Original word >> july\n",
      "stemmed_word >> july\n",
      "lemmatized_word >> july\n",
      "****************************************************************************************************\n",
      "Original word >> 1969\n",
      "stemmed_word >> 1969\n",
      "lemmatized_word >> 1969\n",
      "****************************************************************************************************\n",
      "Original word >> reached\n",
      "stemmed_word >> reach\n",
      "lemmatized_word >> reached\n",
      "****************************************************************************************************\n",
      "Original word >> moon\n",
      "stemmed_word >> moon\n",
      "lemmatized_word >> moon\n",
      "****************************************************************************************************\n",
      "Original word >> space\n",
      "stemmed_word >> spac\n",
      "lemmatized_word >> space\n",
      "****************************************************************************************************\n",
      "Original word >> craft\n",
      "stemmed_word >> craft\n",
      "lemmatized_word >> craft\n",
      "****************************************************************************************************\n",
      "Original word >> named\n",
      "stemmed_word >> nam\n",
      "lemmatized_word >> named\n",
      "****************************************************************************************************\n",
      "Original word >> apollo\n",
      "stemmed_word >> apollo\n",
      "lemmatized_word >> apollo\n",
      "****************************************************************************************************\n",
      "Original word >> ii\n",
      "stemmed_word >> ii\n",
      "lemmatized_word >> ii\n",
      "****************************************************************************************************\n"
     ]
    }
   ],
   "source": [
    "# Stemming and limitization\n",
    "stemming=LancasterStemmer()\n",
    "lemmatizer=WordNetLemmatizer()\n",
    "for word in text_without_stop:\n",
    "  stemmed_word=stemming.stem(word)\n",
    "  lemmatized_word=lemmatizer.lemmatize(word)\n",
    "  print(f'Original word >> {word}')\n",
    "  print(f'stemmed_word >> {stemmed_word}')\n",
    "  print(f'lemmatized_word >> {lemmatized_word}')\n",
    "  print('*'*100)"
   ]
  },
  {
   "cell_type": "code",
   "execution_count": 64,
   "metadata": {
    "colab": {
     "base_uri": "https://localhost:8080/",
     "height": 35
    },
    "executionInfo": {
     "elapsed": 647,
     "status": "ok",
     "timestamp": 1673980040716,
     "user": {
      "displayName": "Akshay Bhure",
      "userId": "00538099124574916420"
     },
     "user_tz": -330
    },
    "id": "cbJ25h2f9uZO",
    "outputId": "c8bd924b-f76e-4db6-f74e-01cabaac4acf"
   },
   "outputs": [
    {
     "data": {
      "application/vnd.google.colaboratory.intrinsic+json": {
       "type": "string"
      },
      "text/plain": [
       "'a, A, a, A, E'"
      ]
     },
     "execution_count": 64,
     "metadata": {},
     "output_type": "execute_result"
    }
   ],
   "source": [
    "#Handelling accented characters\n",
    "accented_character=\"á, À, ä, Å, É\"\n",
    "fixed_words=unidecode(accented_character)\n",
    "fixed_words"
   ]
  },
  {
   "cell_type": "code",
   "execution_count": 69,
   "metadata": {
    "colab": {
     "base_uri": "https://localhost:8080/"
    },
    "executionInfo": {
     "elapsed": 3963,
     "status": "ok",
     "timestamp": 1673980330191,
     "user": {
      "displayName": "Akshay Bhure",
      "userId": "00538099124574916420"
     },
     "user_tz": -330
    },
    "id": "IdnTse5e_4zI",
    "outputId": "a06c46da-759c-404b-92f6-3695ce4d878d"
   },
   "outputs": [
    {
     "name": "stdout",
     "output_type": "stream",
     "text": [
      "Looking in indexes: https://pypi.org/simple, https://us-python.pkg.dev/colab-wheels/public/simple/\n",
      "Requirement already satisfied: textblob in /usr/local/lib/python3.8/dist-packages (0.15.3)\n",
      "Requirement already satisfied: nltk>=3.1 in /usr/local/lib/python3.8/dist-packages (from textblob) (3.7)\n",
      "Requirement already satisfied: click in /usr/local/lib/python3.8/dist-packages (from nltk>=3.1->textblob) (7.1.2)\n",
      "Requirement already satisfied: tqdm in /usr/local/lib/python3.8/dist-packages (from nltk>=3.1->textblob) (4.64.1)\n",
      "Requirement already satisfied: joblib in /usr/local/lib/python3.8/dist-packages (from nltk>=3.1->textblob) (1.2.0)\n",
      "Requirement already satisfied: regex>=2021.8.3 in /usr/local/lib/python3.8/dist-packages (from nltk>=3.1->textblob) (2022.6.2)\n"
     ]
    }
   ],
   "source": [
    "!pip install textblob"
   ]
  },
  {
   "cell_type": "code",
   "execution_count": 71,
   "metadata": {
    "colab": {
     "base_uri": "https://localhost:8080/"
    },
    "executionInfo": {
     "elapsed": 467,
     "status": "ok",
     "timestamp": 1673980380765,
     "user": {
      "displayName": "Akshay Bhure",
      "userId": "00538099124574916420"
     },
     "user_tz": -330
    },
    "id": "PYkGDvk2-9c1",
    "outputId": "178f2f54-9a15-4278-acfa-37bbc2feaa05"
   },
   "outputs": [
    {
     "name": "stdout",
     "output_type": "stream",
     "text": [
      "message\n"
     ]
    }
   ],
   "source": [
    "# Autocorrection\n",
    "from textblob import TextBlob\n",
    "a='mussage'\n",
    "b=TextBlob(a)\n",
    "print(b.correct())"
   ]
  },
  {
   "cell_type": "code",
   "execution_count": 73,
   "metadata": {
    "colab": {
     "base_uri": "https://localhost:8080/"
    },
    "executionInfo": {
     "elapsed": 5837,
     "status": "ok",
     "timestamp": 1673980472985,
     "user": {
      "displayName": "Akshay Bhure",
      "userId": "00538099124574916420"
     },
     "user_tz": -330
    },
    "id": "Hbaii-2O_h28",
    "outputId": "2736f6ab-643d-48c7-ee41-25bae9b8e66a"
   },
   "outputs": [
    {
     "name": "stdout",
     "output_type": "stream",
     "text": [
      "Looking in indexes: https://pypi.org/simple, https://us-python.pkg.dev/colab-wheels/public/simple/\n",
      "Collecting autocorrect\n",
      "  Downloading autocorrect-2.6.1.tar.gz (622 kB)\n",
      "\u001b[2K     \u001b[90m━━━━━━━━━━━━━━━━━━━━━━━━━━━━━━━━━━━━━━\u001b[0m \u001b[32m622.8/622.8 KB\u001b[0m \u001b[31m24.9 MB/s\u001b[0m eta \u001b[36m0:00:00\u001b[0m\n",
      "\u001b[?25h  Preparing metadata (setup.py) ... \u001b[?25l\u001b[?25hdone\n",
      "Building wheels for collected packages: autocorrect\n",
      "  Building wheel for autocorrect (setup.py) ... \u001b[?25l\u001b[?25hdone\n",
      "  Created wheel for autocorrect: filename=autocorrect-2.6.1-py3-none-any.whl size=622381 sha256=acf036fbc48195e346fb92fb848edc494d6df510b636e2059391e805c25d5158\n",
      "  Stored in directory: /root/.cache/pip/wheels/72/b8/3b/a90246d13090e85394a8a44b78c8abf577c0766f29d6543c75\n",
      "Successfully built autocorrect\n",
      "Installing collected packages: autocorrect\n",
      "Successfully installed autocorrect-2.6.1\n"
     ]
    }
   ],
   "source": [
    "pip install autocorrect"
   ]
  },
  {
   "cell_type": "code",
   "execution_count": 74,
   "metadata": {
    "colab": {
     "base_uri": "https://localhost:8080/"
    },
    "executionInfo": {
     "elapsed": 771,
     "status": "ok",
     "timestamp": 1673980480445,
     "user": {
      "displayName": "Akshay Bhure",
      "userId": "00538099124574916420"
     },
     "user_tz": -330
    },
    "id": "odsEO8oBAdzy",
    "outputId": "bce4f3be-876e-46c9-82c9-0d0c5531a95a"
   },
   "outputs": [
    {
     "name": "stdout",
     "output_type": "stream",
     "text": [
      "message\n",
      "service\n"
     ]
    }
   ],
   "source": [
    "# Autocorrection\n",
    "from autocorrect import Speller\n",
    "spell = Speller(lang='en')\n",
    "print(spell('mussage'))\n",
    "print(spell('survice'))"
   ]
  },
  {
   "cell_type": "code",
   "execution_count": null,
   "metadata": {
    "id": "bsFQffb3AomG"
   },
   "outputs": [],
   "source": []
  }
 ],
 "metadata": {
  "colab": {
   "authorship_tag": "ABX9TyN00z17E8n1FHvjFMHnWw1g",
   "provenance": []
  },
  "kernelspec": {
   "display_name": "Python 3 (ipykernel)",
   "language": "python",
   "name": "python3"
  },
  "language_info": {
   "codemirror_mode": {
    "name": "ipython",
    "version": 3
   },
   "file_extension": ".py",
   "mimetype": "text/x-python",
   "name": "python",
   "nbconvert_exporter": "python",
   "pygments_lexer": "ipython3",
   "version": "3.9.12"
  }
 },
 "nbformat": 4,
 "nbformat_minor": 1
}
